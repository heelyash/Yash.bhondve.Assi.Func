{
  "nbformat": 4,
  "nbformat_minor": 0,
  "metadata": {
    "colab": {
      "provenance": []
    },
    "kernelspec": {
      "name": "python3",
      "display_name": "Python 3"
    },
    "language_info": {
      "name": "python"
    }
  },
  "cells": [
    {
      "cell_type": "code",
      "source": [
        "# 1. What is the difference between a function and a method in Python?\n",
        "\n",
        "# Ans . In Python, methods and functions have similar purposes but differ in important ways. Functions are independent blocks of code that can be called from anywhere,\n",
        "# while methods are tied to objects or classes and need an object or class instance to be invoked.\n",
        "\n",
        "#Parameter\tMethod\tFunction\n",
        "#definition \tMethod definitions are always present inside a class.\tNo class is needed to define a function.\n",
        "#Call\tIt is called on an object.\tIt is called by its name.\n",
        "#Dependency\tIt depends on the class they belong to.\tIt doesn’t depend on any class, i.e., it is an identical entity.\n",
        "#self\tIt requires the self as its first argument.\tIt doesn’t require any self-argument.\n",
        "#operation\tIt operates on the data of the object it associates with.\tIt operates on the data that you pass to them as an argument.\n",
        "\n",
        "def sum1(a,b):\n",
        "  return a+b\n",
        "\n",
        "  sum1(1,20)\n"
      ],
      "metadata": {
        "id": "nSLtfM7YQvqT"
      },
      "execution_count": null,
      "outputs": []
    },
    {
      "cell_type": "code",
      "source": [
        "sum1(1,20)\n"
      ],
      "metadata": {
        "colab": {
          "base_uri": "https://localhost:8080/"
        },
        "id": "rO1CjfA4S1qv",
        "outputId": "c307448a-9891-4e5f-d69d-4b014142dba2"
      },
      "execution_count": null,
      "outputs": [
        {
          "output_type": "execute_result",
          "data": {
            "text/plain": [
              "21"
            ]
          },
          "metadata": {},
          "execution_count": 7
        }
      ]
    },
    {
      "cell_type": "code",
      "source": [
        "# 2. Explain the concept of function arguments and parameters in Python.\n",
        "\n",
        "#Ans. In Python, an argument is the value passed to a function when it's called. Fundamentally, parameters are the variables inside a function's parentheses.\n",
        "#Arguments provide values for those parameters.\n",
        "#The terms parameter and argument can be used for the same thing: information that are passed into a function.\n",
        "#From a function's perspective:\n",
        "#A parameter is the variable listed inside the parentheses in the function definition.\n",
        "#An argument is the value that is sent to the function when it is called.\n",
        "\n",
        "\n",
        "def my_function():\n",
        "  print(\"Hello from a function\")\n",
        "\n",
        "my_function()"
      ],
      "metadata": {
        "colab": {
          "base_uri": "https://localhost:8080/"
        },
        "id": "PslEYouKTr61",
        "outputId": "5d352570-d99e-4751-f718-f839f924a485"
      },
      "execution_count": null,
      "outputs": [
        {
          "output_type": "stream",
          "name": "stdout",
          "text": [
            "Hello from a function\n"
          ]
        }
      ]
    },
    {
      "cell_type": "code",
      "source": [
        "#Que.3 What are the different ways to define and call a function in Python?\n",
        "\n",
        "#Ans. In Python, you define a function with the def keyword, then write the function identifier (name) followed by parentheses and a colon.\n",
        "#The next thing you have to do is make sure you indent with a tab or 4 spaces, and then specify what you want the function to do for you.\n",
        "\n",
        "\n",
        "#Examples\n",
        "\n",
        "#Following the basic syntax above, an example of a basic Python function printing “Hello World” to the terminal looks like this:\n",
        "\n",
        "#Following the basic syntax above, an example of a basic Python function printing.\n",
        "\n",
        "def greet():\n",
        "  print(\"goodmoring evry one\")\n"
      ],
      "metadata": {
        "id": "oNRRKvrPU7wZ"
      },
      "execution_count": null,
      "outputs": []
    },
    {
      "cell_type": "code",
      "source": [
        "#To call this function, write the name of the function followed by parentheses:\n",
        "\n",
        "greet()"
      ],
      "metadata": {
        "colab": {
          "base_uri": "https://localhost:8080/"
        },
        "id": "5ce8eUrgVx9n",
        "outputId": "0b518288-a83c-4da2-d53b-65ff70a96607"
      },
      "execution_count": null,
      "outputs": [
        {
          "output_type": "stream",
          "name": "stdout",
          "text": [
            "goodmoring evry one\n"
          ]
        }
      ]
    },
    {
      "cell_type": "code",
      "source": [
        "#Que 4. What is the purpose of the `return` statement in a Python function?\n",
        "\n",
        "#Ans. The Python return statement marks the end of a function and specifies the value or values to pass back from the function.\n",
        "#Return statements can return data of any type, including integers, floats, strings, lists, dictionaries, and even other functions.\n",
        "\n",
        "def add_num(a,b):\n",
        "  return a+b\n",
        "\n",
        "  add_num(1,20)\n"
      ],
      "metadata": {
        "id": "4jnTbGTtVzTx"
      },
      "execution_count": null,
      "outputs": []
    },
    {
      "cell_type": "code",
      "source": [
        "  add_num(1,20)"
      ],
      "metadata": {
        "colab": {
          "base_uri": "https://localhost:8080/"
        },
        "id": "RaOGPzIKXGaC",
        "outputId": "06df5073-1474-4e4d-8cd9-6ef81a8ded64"
      },
      "execution_count": null,
      "outputs": [
        {
          "output_type": "execute_result",
          "data": {
            "text/plain": [
              "21"
            ]
          },
          "metadata": {},
          "execution_count": 13
        }
      ]
    },
    {
      "cell_type": "code",
      "source": [
        "def add1(a):\n",
        "  return a"
      ],
      "metadata": {
        "id": "XJaBWdbDX67-"
      },
      "execution_count": null,
      "outputs": []
    },
    {
      "cell_type": "code",
      "source": [
        "add1(\"Yash\")+ \"bhondve\"    #it wwill not give any error else if print is used if will error"
      ],
      "metadata": {
        "colab": {
          "base_uri": "https://localhost:8080/",
          "height": 36
        },
        "id": "Xkbv80tUYAXS",
        "outputId": "819e2d9d-8e0a-40ea-d25e-ec1528371a26"
      },
      "execution_count": null,
      "outputs": [
        {
          "output_type": "execute_result",
          "data": {
            "text/plain": [
              "'Yashbhondve'"
            ],
            "application/vnd.google.colaboratory.intrinsic+json": {
              "type": "string"
            }
          },
          "metadata": {},
          "execution_count": 24
        }
      ]
    },
    {
      "cell_type": "code",
      "source": [
        "#Que. 5. What are iterators in Python and how do they differ from iterables?\n",
        "\n",
        "#Ans .  An Iterable is basically an object that any user can iterate over. An Iterator is also an object that helps a user in iterating over another object (that is iterable).\n",
        "#We can generate an iterator when we pass the object to the iter() method. We use the __next__() method for iterating\n",
        "\n",
        "#Meaning and Definition\tAn Iterable is basically an object that any user can iterate over.\tAn Iterator is also an object that helps a user in iterating over another object (that is iterable).\n",
        "# Method Used\tWe can generate an iterator when we pass the object to the iter() method.\tWe use the __next__() method for iterating. This method helps iterators return the next item available from the object.\n",
        "# Inter-Relation\tEvery iterator is basically iterable.\tNot every iterable is an iterator.\n",
        "\n",
        "for i in \"yash\":\n",
        "  print(i)\n",
        "\n"
      ],
      "metadata": {
        "colab": {
          "base_uri": "https://localhost:8080/"
        },
        "id": "tvtatxrlYEhI",
        "outputId": "fef40866-d2c8-45ff-edbb-a70df55cdae5"
      },
      "execution_count": null,
      "outputs": [
        {
          "output_type": "stream",
          "name": "stdout",
          "text": [
            "y\n",
            "a\n",
            "s\n",
            "h\n"
          ]
        }
      ]
    },
    {
      "cell_type": "code",
      "source": [],
      "metadata": {
        "id": "9hqzi9hedkAm"
      },
      "execution_count": null,
      "outputs": []
    },
    {
      "cell_type": "code",
      "source": [
        "b = \"summerslam\"\n",
        "\n",
        "for i in b:\n",
        "  print(i)"
      ],
      "metadata": {
        "colab": {
          "base_uri": "https://localhost:8080/"
        },
        "id": "UXiPImykcRf7",
        "outputId": "b917dcf7-0a58-4421-9195-a623afd67632"
      },
      "execution_count": null,
      "outputs": [
        {
          "output_type": "stream",
          "name": "stdout",
          "text": [
            "s\n",
            "u\n",
            "m\n",
            "m\n",
            "e\n",
            "r\n",
            "s\n",
            "l\n",
            "a\n",
            "m\n"
          ]
        }
      ]
    },
    {
      "cell_type": "code",
      "source": [
        "w = iter(b)"
      ],
      "metadata": {
        "id": "gEL6oAtXdidT"
      },
      "execution_count": null,
      "outputs": []
    },
    {
      "cell_type": "code",
      "source": [
        "next(w)"
      ],
      "metadata": {
        "colab": {
          "base_uri": "https://localhost:8080/",
          "height": 36
        },
        "id": "23rAUT2YdiR7",
        "outputId": "0a28f86f-6a92-457c-9c41-c14e866c11e5"
      },
      "execution_count": null,
      "outputs": [
        {
          "output_type": "execute_result",
          "data": {
            "text/plain": [
              "'s'"
            ],
            "application/vnd.google.colaboratory.intrinsic+json": {
              "type": "string"
            }
          },
          "metadata": {},
          "execution_count": 41
        }
      ]
    },
    {
      "cell_type": "code",
      "source": [
        "w = iter(b)"
      ],
      "metadata": {
        "colab": {
          "base_uri": "https://localhost:8080/"
        },
        "id": "3uRycn8wc7M2",
        "outputId": "b182d48e-5655-4e99-87e8-50d36747b3a7"
      },
      "execution_count": null,
      "outputs": [
        {
          "output_type": "execute_result",
          "data": {
            "text/plain": [
              "<str_iterator at 0x78c7fb4abc10>"
            ]
          },
          "metadata": {},
          "execution_count": 38
        }
      ]
    },
    {
      "cell_type": "code",
      "source": [
        "cars = [\"ferrar\" , \"neon\" , \"nano\" , \"thar\"]\n",
        "for i in cars:\n",
        "  print(i)"
      ],
      "metadata": {
        "colab": {
          "base_uri": "https://localhost:8080/"
        },
        "id": "4qN9crtjeEeX",
        "outputId": "451954d2-7ecd-4156-adde-752138a60235"
      },
      "execution_count": null,
      "outputs": [
        {
          "output_type": "stream",
          "name": "stdout",
          "text": [
            "ferrar\n",
            "neon\n",
            "nano\n",
            "thar\n"
          ]
        }
      ]
    },
    {
      "cell_type": "code",
      "source": [
        "iter(cars)"
      ],
      "metadata": {
        "colab": {
          "base_uri": "https://localhost:8080/"
        },
        "id": "h_eNddY9eEZc",
        "outputId": "fe05aa1d-ecce-409e-a844-b8e4ea98b9c0"
      },
      "execution_count": null,
      "outputs": [
        {
          "output_type": "execute_result",
          "data": {
            "text/plain": [
              "<list_iterator at 0x78c7fb5dff10>"
            ]
          },
          "metadata": {},
          "execution_count": 46
        }
      ]
    },
    {
      "cell_type": "code",
      "source": [
        "u =iter(cars)"
      ],
      "metadata": {
        "id": "_D2fe9xBeEXH"
      },
      "execution_count": null,
      "outputs": []
    },
    {
      "cell_type": "code",
      "source": [
        "next(u)"
      ],
      "metadata": {
        "colab": {
          "base_uri": "https://localhost:8080/",
          "height": 36
        },
        "id": "5WuL6yiaeEUa",
        "outputId": "fe628e97-eeff-4256-dc2f-930849d152d9"
      },
      "execution_count": null,
      "outputs": [
        {
          "output_type": "execute_result",
          "data": {
            "text/plain": [
              "'ferrar'"
            ],
            "application/vnd.google.colaboratory.intrinsic+json": {
              "type": "string"
            }
          },
          "metadata": {},
          "execution_count": 48
        }
      ]
    },
    {
      "cell_type": "code",
      "source": [
        "bike = [\"pulsar\" , \"honda\"]\n",
        "\n",
        "for i in bike:\n",
        "  print(i)"
      ],
      "metadata": {
        "colab": {
          "base_uri": "https://localhost:8080/"
        },
        "id": "UExbNo3Vg4lI",
        "outputId": "a51ac212-f664-4b8a-f855-11a824d9164c"
      },
      "execution_count": null,
      "outputs": [
        {
          "output_type": "stream",
          "name": "stdout",
          "text": [
            "pulsar\n",
            "honda\n"
          ]
        }
      ]
    },
    {
      "cell_type": "code",
      "source": [
        "#Que .6 Explain the concept of generators in Python and how they are defined ?\n",
        "\n",
        "#Ans. A Generator in Python is a function that returns an iterator using the Yield keyword. In this article, we will discuss how the generator function works in Python.\n",
        "#  Generator Function in Python\n",
        "#A generator function in Python is defined like a normal function, but whenever it needs to generate a value, it does so with the yield keyword rather than return.\n",
        "#If the body of a def contains yield, the function automatically becomes a Python generator function.\n",
        "\n",
        "def test(n):\n",
        "  for i in range(n):\n",
        "    yield i\n",
        "\n",
        "    test(10)\n"
      ],
      "metadata": {
        "id": "aIrOWf4HZdP_"
      },
      "execution_count": null,
      "outputs": []
    },
    {
      "cell_type": "code",
      "source": [
        "  test(10)"
      ],
      "metadata": {
        "colab": {
          "base_uri": "https://localhost:8080/"
        },
        "id": "6ZMI7Lxzi6PM",
        "outputId": "1ce5795a-dc0d-4451-b377-3e94f135d485"
      },
      "execution_count": null,
      "outputs": [
        {
          "output_type": "execute_result",
          "data": {
            "text/plain": [
              "<generator object test at 0x78c7fb46d620>"
            ]
          },
          "metadata": {},
          "execution_count": 61
        }
      ]
    },
    {
      "cell_type": "code",
      "source": [
        "z =  test(10)"
      ],
      "metadata": {
        "id": "AXTKcvrUjBv_"
      },
      "execution_count": null,
      "outputs": []
    },
    {
      "cell_type": "code",
      "source": [
        "next(z)"
      ],
      "metadata": {
        "colab": {
          "base_uri": "https://localhost:8080/"
        },
        "id": "0hPbrN1pjij3",
        "outputId": "27499083-41dd-4ea1-ea4f-8738df279373"
      },
      "execution_count": null,
      "outputs": [
        {
          "output_type": "execute_result",
          "data": {
            "text/plain": [
              "0"
            ]
          },
          "metadata": {},
          "execution_count": 63
        }
      ]
    },
    {
      "cell_type": "code",
      "source": [
        "next(z)"
      ],
      "metadata": {
        "colab": {
          "base_uri": "https://localhost:8080/"
        },
        "id": "0RmFU209jjjM",
        "outputId": "c0a07b84-916b-4384-de93-52e4dd7b2cfc"
      },
      "execution_count": null,
      "outputs": [
        {
          "output_type": "execute_result",
          "data": {
            "text/plain": [
              "1"
            ]
          },
          "metadata": {},
          "execution_count": 64
        }
      ]
    },
    {
      "cell_type": "code",
      "source": [
        "next(z)"
      ],
      "metadata": {
        "colab": {
          "base_uri": "https://localhost:8080/"
        },
        "id": "BrLjSY-2jlrB",
        "outputId": "a0d33d5a-0bcd-4dae-a927-467357501929"
      },
      "execution_count": null,
      "outputs": [
        {
          "output_type": "execute_result",
          "data": {
            "text/plain": [
              "2"
            ]
          },
          "metadata": {},
          "execution_count": 65
        }
      ]
    },
    {
      "cell_type": "code",
      "source": [],
      "metadata": {
        "id": "djR3SAwBjm82"
      },
      "execution_count": null,
      "outputs": []
    },
    {
      "cell_type": "code",
      "source": [
        "#Que. 7 What are the advantages of using generators over regular functions?\n",
        "\n",
        "#Ans . Generators avoid creating a list or other data structure in memory to store the values as they are produced, instead replacing them one by one over time.\n",
        "#This makes them more efficient than loops for large datasets and allows for code that runs in linear time.\n",
        "\n",
        "\n",
        "#Memory efficiency\n",
        "#Generators produce values one at a time, so they don't need to store all the values in memory at once. This can save a lot of memory, especially when working with large data sets.\n",
        "#Lazy evaluation\n",
        "#Generators only compute the next value when it's needed, which can lead to performance improvements by avoiding unnecessary calculations.\n",
        "#Readability\n",
        "#Generators can make code easier to read and understand by breaking up the iteration process into smaller chunks.\n",
        "#Flexibility\n",
        "#Generators can model infinite sequences or streams of data with finite memory.\n",
        "#Ease of implementation\n",
        "#Generators automatically implement __iter__(), __next__(), and StopIteration, which otherwise need to be explicitly specified.\n",
        "#Creating custom iterators\n",
        "#Generators are a simple tool for creating iterators, allowing you to iterate over sequences of data without building a custom class.\n",
        "\n"
      ],
      "metadata": {
        "id": "W1WOe9Xdjn9Q"
      },
      "execution_count": null,
      "outputs": []
    },
    {
      "cell_type": "code",
      "source": [
        "#Que 8.What is a lambda function in Python and when is it typically used?\n",
        "\n",
        "#Ans . Python Lambda Functions are anonymous functions means that the function is without a name. As we already know the def keyword is used to define a normal\n",
        "#function in Python. Similarly, the lambda keyword is used to define an anonymous function in Python.\n",
        "\n",
        "\n",
        "a = lambda x:x**2"
      ],
      "metadata": {
        "id": "0U9flNAnlMWc"
      },
      "execution_count": null,
      "outputs": []
    },
    {
      "cell_type": "code",
      "source": [
        "a(2)"
      ],
      "metadata": {
        "colab": {
          "base_uri": "https://localhost:8080/"
        },
        "id": "Ilos2cE2lRSQ",
        "outputId": "afb53ba8-746a-4154-abc9-e1909f4febe1"
      },
      "execution_count": null,
      "outputs": [
        {
          "output_type": "execute_result",
          "data": {
            "text/plain": [
              "4"
            ]
          },
          "metadata": {},
          "execution_count": 68
        }
      ]
    },
    {
      "cell_type": "code",
      "source": [
        "a (5)"
      ],
      "metadata": {
        "colab": {
          "base_uri": "https://localhost:8080/"
        },
        "id": "8NBeAEMHmiWM",
        "outputId": "2078437c-b584-4f39-d714-0499451deaf3"
      },
      "execution_count": null,
      "outputs": [
        {
          "output_type": "execute_result",
          "data": {
            "text/plain": [
              "25"
            ]
          },
          "metadata": {},
          "execution_count": 69
        }
      ]
    },
    {
      "cell_type": "code",
      "source": [
        "#Que.9 Explain the purpose and usage of the `map()` function in Python.?\n",
        "\n",
        "#Ans . Python’s map() is a built-in function that allows you to process and transform all the items in an iterable without using an explicit for loop, a technique commonly\n",
        "#known as mapping. map() is useful when you need to apply a transformation function to each item in an iterable and transform them into a new iterable.\n",
        "#map() is one of the tools that support a functional programming style in Python.\n",
        "\n",
        "#map() loops over the items of an input iterable (or iterables) and returns an iterator that results from applying a transformation function to every item in the original input iterable.\n",
        "#According to the documentation, map() takes a function object and an iterable (or multiple iterables) as arguments and returns an iterator that yields transformed items on demand.\n",
        "#The function’s signature is defined as follows:\n",
        "\n",
        "\n",
        "a = [ 10 ,220 ,50 , 60]\n",
        "\n",
        "def add2(x):\n",
        "  return x+2\n",
        "\n",
        "  map(add2 , a)\n"
      ],
      "metadata": {
        "id": "AF0KJUtDmkEI"
      },
      "execution_count": null,
      "outputs": []
    },
    {
      "cell_type": "code",
      "source": [
        "list(map(add2 , a))"
      ],
      "metadata": {
        "colab": {
          "base_uri": "https://localhost:8080/"
        },
        "id": "0GO8Y_GSqbC4",
        "outputId": "46dd529f-3a1f-4554-8a45-a6cef636f231"
      },
      "execution_count": null,
      "outputs": [
        {
          "output_type": "execute_result",
          "data": {
            "text/plain": [
              "[12, 222, 52, 62]"
            ]
          },
          "metadata": {},
          "execution_count": 72
        }
      ]
    },
    {
      "cell_type": "code",
      "source": [
        "#Que .10 What is the difference between `map()`, `reduce()`, and `filter()` functions in Python?\n",
        "\n",
        "#Ans . The 'Map' operation in programming refers to the transformation of data from one form into another. The 'Reduce' operation is a method for combining the elements of a list\n",
        "# into a single result, while 'Filter' is a method for selecting a subset of items from a list based on a particular condition.\n",
        "\n",
        "#The map example is alreay we dicusss above\n",
        "\n",
        "# Example of the reduce\n",
        "\n",
        "from functools import reduce\n",
        "sub = reduce((lambda x, y: x - y), [1, 2, 3, 4])\n",
        "\n",
        "print(sub)\n"
      ],
      "metadata": {
        "colab": {
          "base_uri": "https://localhost:8080/"
        },
        "id": "EgXsqkcgrdXn",
        "outputId": "214a83b5-64a9-4a89-f35a-65fabb814ac0"
      },
      "execution_count": null,
      "outputs": [
        {
          "output_type": "stream",
          "name": "stdout",
          "text": [
            "-8\n"
          ]
        }
      ]
    },
    {
      "cell_type": "code",
      "source": [
        "# Example of filter()\n",
        "\n",
        "l  = [ 1,2,3,4,2,6,4,]\n",
        "\n",
        "list(filter(lambda x: x%2==0 , l))"
      ],
      "metadata": {
        "colab": {
          "base_uri": "https://localhost:8080/"
        },
        "id": "JW_8HeQV3x3W",
        "outputId": "9ad32ccb-4f1e-4080-854a-8f02bb33a226"
      },
      "execution_count": null,
      "outputs": [
        {
          "output_type": "execute_result",
          "data": {
            "text/plain": [
              "[2, 4, 2, 6, 4]"
            ]
          },
          "metadata": {},
          "execution_count": 81
        }
      ]
    },
    {
      "cell_type": "code",
      "source": [
        "#Que 11. Using pen & Paper write the internal mechanism for sum operation using  reduce function on this given\n",
        "list:[47,11,42,13];\n",
        "\n",
        "from functools import reduce\n",
        "\n",
        "numbers = [47, 11, 42, 13]\n",
        "sum_of_numbers = reduce(lambda x, y: x + y, numbers)\n",
        "print(sum_of_numbers)  # Output: 113"
      ],
      "metadata": {
        "colab": {
          "base_uri": "https://localhost:8080/"
        },
        "id": "SVfklsVu6dXr",
        "outputId": "72ec19e0-d8e6-4d90-e3f1-a7c7abe0e800"
      },
      "execution_count": null,
      "outputs": [
        {
          "output_type": "stream",
          "name": "stdout",
          "text": [
            "113\n"
          ]
        }
      ]
    },
    {
      "cell_type": "code",
      "source": [
        "#Practicle quetions"
      ],
      "metadata": {
        "id": "DYvqFbo5XXMJ"
      },
      "execution_count": null,
      "outputs": []
    },
    {
      "cell_type": "code",
      "source": [
        "# Que 1  Write a Python function that takes a list of numbers as input and returns the sum of all even numbers in the list.\n",
        "\n",
        "#Ans.\n",
        "\n",
        "def sum_even(l):\n",
        "  sum = 0\n",
        "  for i in l:\n",
        "    if i%2==0:\n",
        "      sum = sum+i\n",
        "  return sum\n",
        "sum_even([1,2,3,4,5,6,7,8,9])\n"
      ],
      "metadata": {
        "colab": {
          "base_uri": "https://localhost:8080/"
        },
        "id": "qy-YFDxR7XoS",
        "outputId": "48708363-f41e-4ac1-9a09-72574792b6be"
      },
      "execution_count": null,
      "outputs": [
        {
          "output_type": "execute_result",
          "data": {
            "text/plain": [
              "20"
            ]
          },
          "metadata": {},
          "execution_count": 89
        }
      ]
    },
    {
      "cell_type": "code",
      "source": [
        "# Que.2 Create a Python function that accepts a string and returns the reverse of that string.\n",
        "\n",
        "def reverse_string(s):\n",
        "  return s[::-1]\n",
        "\n",
        "reverse_string(\"yash\")"
      ],
      "metadata": {
        "colab": {
          "base_uri": "https://localhost:8080/",
          "height": 36
        },
        "id": "Bj8ssVXnapu1",
        "outputId": "53e10964-b53d-4fc2-8452-984a543556f8"
      },
      "execution_count": null,
      "outputs": [
        {
          "output_type": "execute_result",
          "data": {
            "text/plain": [
              "'hsay'"
            ],
            "application/vnd.google.colaboratory.intrinsic+json": {
              "type": "string"
            }
          },
          "metadata": {},
          "execution_count": 90
        }
      ]
    },
    {
      "cell_type": "code",
      "source": [
        "#Que.3 Implement a Python function that takes a list of integers and returns a new list containing the squares of\n",
        "#each number.?\n",
        "\n",
        "def squar_no(w):\n",
        "  l1 = []\n",
        "  for i in w:\n",
        "    l1.append(i**2)\n",
        "  return l1\n",
        "\n",
        "squar_no([1,2,3,4,5,6,7,8,9])"
      ],
      "metadata": {
        "colab": {
          "base_uri": "https://localhost:8080/"
        },
        "id": "AADojU3fa8D8",
        "outputId": "bd9adc2e-3884-4a9a-e52e-fa53f9acf3a7"
      },
      "execution_count": null,
      "outputs": [
        {
          "output_type": "execute_result",
          "data": {
            "text/plain": [
              "[1, 4, 9, 16, 25, 36, 49, 64, 81]"
            ]
          },
          "metadata": {},
          "execution_count": 91
        }
      ]
    },
    {
      "cell_type": "code",
      "source": [
        "#Que.4 Write a Python function that checks if a given number is prime or not from 1 to 200.\n",
        "\n",
        "def is_prime(n):\n",
        "  if n <= 1:\n",
        "    return False\n",
        "  if n <= 3:\n",
        "    return True\n",
        "  if n % 2 == 0 or n % 3 == 0:\n",
        "    return False\n",
        "  i = 5\n",
        "  while i * i <= n:\n",
        "    if n % i == 0 or n % (i + 2) == 0:\n",
        "      return False\n",
        "    i += 6\n",
        "  return True\n",
        "\n",
        "# Test the function\n",
        "for i in range(1, 201):\n",
        "  if is_prime(i):\n",
        "    print(i, \"is a prime number\")\n"
      ],
      "metadata": {
        "colab": {
          "base_uri": "https://localhost:8080/"
        },
        "id": "fTRDNO65bSxf",
        "outputId": "dc09b37f-665b-44f9-b995-326a53188dcb"
      },
      "execution_count": null,
      "outputs": [
        {
          "output_type": "stream",
          "name": "stdout",
          "text": [
            "2 is a prime number\n",
            "3 is a prime number\n",
            "5 is a prime number\n",
            "7 is a prime number\n",
            "11 is a prime number\n",
            "13 is a prime number\n",
            "17 is a prime number\n",
            "19 is a prime number\n",
            "23 is a prime number\n",
            "29 is a prime number\n",
            "31 is a prime number\n",
            "37 is a prime number\n",
            "41 is a prime number\n",
            "43 is a prime number\n",
            "47 is a prime number\n",
            "53 is a prime number\n",
            "59 is a prime number\n",
            "61 is a prime number\n",
            "67 is a prime number\n",
            "71 is a prime number\n",
            "73 is a prime number\n",
            "79 is a prime number\n",
            "83 is a prime number\n",
            "89 is a prime number\n",
            "97 is a prime number\n",
            "101 is a prime number\n",
            "103 is a prime number\n",
            "107 is a prime number\n",
            "109 is a prime number\n",
            "113 is a prime number\n",
            "127 is a prime number\n",
            "131 is a prime number\n",
            "137 is a prime number\n",
            "139 is a prime number\n",
            "149 is a prime number\n",
            "151 is a prime number\n",
            "157 is a prime number\n",
            "163 is a prime number\n",
            "167 is a prime number\n",
            "173 is a prime number\n",
            "179 is a prime number\n",
            "181 is a prime number\n",
            "191 is a prime number\n",
            "193 is a prime number\n",
            "197 is a prime number\n",
            "199 is a prime number\n"
          ]
        }
      ]
    },
    {
      "cell_type": "code",
      "source": [
        "#Que.5 . Create an iterator class in Python that generates the Fibonacci sequence up to a specified number of\n",
        "#terms.\n",
        "\n",
        "def fibonacci_sequence(n):\n",
        "  a, b = 0, 1\n",
        "  for i in range(n):\n",
        "    yield a\n",
        "    a, b = b, a + b\n",
        "\n",
        "for i in fibonacci_sequence(10):\n",
        "  print(i)"
      ],
      "metadata": {
        "colab": {
          "base_uri": "https://localhost:8080/"
        },
        "id": "cCRexBohd5fa",
        "outputId": "3e2335a7-bfbb-4757-ad36-711b7f4592bc"
      },
      "execution_count": null,
      "outputs": [
        {
          "output_type": "stream",
          "name": "stdout",
          "text": [
            "0\n",
            "1\n",
            "1\n",
            "2\n",
            "3\n",
            "5\n",
            "8\n",
            "13\n",
            "21\n",
            "34\n"
          ]
        }
      ]
    },
    {
      "cell_type": "code",
      "source": [
        "#Que 6.Write a generator function in Python that yields the powers of 2 up to a given exponent.\n",
        "\n",
        "\n",
        "def powers_of_2(n):\n",
        "  for i in range(n):\n",
        "    yield 2 ** i\n",
        "\n",
        "for i in powers_of_2(5):\n",
        "  print(i)"
      ],
      "metadata": {
        "colab": {
          "base_uri": "https://localhost:8080/"
        },
        "id": "zX-HOpideE1l",
        "outputId": "99eecfc9-44f5-443a-a65c-96eb3bcca9ff"
      },
      "execution_count": null,
      "outputs": [
        {
          "output_type": "stream",
          "name": "stdout",
          "text": [
            "1\n",
            "2\n",
            "4\n",
            "8\n",
            "16\n"
          ]
        }
      ]
    },
    {
      "cell_type": "code",
      "source": [
        "#Que 8. Use a lambda function in Python to sort a list of tuples based on the second element of each tuple.\n",
        "\n",
        "# List of tuples\n",
        "my_tuples = [(1, 5), (3, 2), (2, 8), (4, 1)]\n",
        "\n",
        "# Sort the list of tuples based on the second element using a lambda function\n",
        "sorted_tuples = sorted(my_tuples, key=lambda x: x[1])\n",
        "\n",
        "# Print the sorted list of tuples\n",
        "print(sorted_tuples)  # Output: [(4, 1), (3, 2), (1, 5), (2, 8)]"
      ],
      "metadata": {
        "id": "zfbO6WnhiYLU",
        "colab": {
          "base_uri": "https://localhost:8080/"
        },
        "outputId": "3002b8f8-1cfc-4ac4-cecd-3d3e2e88122e"
      },
      "execution_count": null,
      "outputs": [
        {
          "output_type": "stream",
          "name": "stdout",
          "text": [
            "[(4, 1), (3, 2), (1, 5), (2, 8)]\n"
          ]
        }
      ]
    },
    {
      "cell_type": "code",
      "source": [
        "#Que .9 Write a Python program that uses `map()` to convert a list of temperatures from Celsius to Fahrenheit.\n",
        "\n",
        "# List of temperatures in Celsius\n",
        "celsius_temps = [0, 10, 20, 30, 40]\n",
        "\n",
        "# Function to convert Celsius to Fahrenheit\n",
        "def celsius_to_fahrenheit(celsius):\n",
        "  return (celsius * 9/5) + 32\n",
        "\n",
        "# Use map() to convert the list of Celsius temperatures to Fahrenheit\n",
        "fahrenheit_temps = list(map(celsius_to_fahrenheit, celsius_temps))\n",
        "\n",
        "# Print the Fahrenheit temperatures\n",
        "print(fahrenheit_temps)  # Output: [32.0, 50.0, 68.0, 86.0, 104.0]"
      ],
      "metadata": {
        "colab": {
          "base_uri": "https://localhost:8080/"
        },
        "id": "IM9g4jkgnavF",
        "outputId": "6b120244-df8e-4f81-8e66-5e7f0a94c858"
      },
      "execution_count": null,
      "outputs": [
        {
          "output_type": "stream",
          "name": "stdout",
          "text": [
            "[32.0, 50.0, 68.0, 86.0, 104.0]\n"
          ]
        }
      ]
    },
    {
      "cell_type": "code",
      "source": [
        "#Que. 10. Create a Python program that uses `filter()` to remove all the vowels from a given string.\n",
        "\n",
        "def is_not_vowel(char):\n",
        "  vowels = 'aeiouAEIOU'\n",
        "  return char not in vowels\n",
        "\n",
        "string = \"This is a test string.\"\n",
        "filtered_string = ''.join(filter(is_not_vowel, string))\n",
        "\n",
        "print(filtered_string)  # Output: Ths s  tst strng.\n"
      ],
      "metadata": {
        "colab": {
          "base_uri": "https://localhost:8080/"
        },
        "id": "9Bh4CaJ1njNC",
        "outputId": "0d13cde5-555c-4e90-a006-16996e9c0680"
      },
      "execution_count": null,
      "outputs": [
        {
          "output_type": "stream",
          "name": "stdout",
          "text": [
            "Ths s  tst strng.\n"
          ]
        }
      ]
    },
    {
      "cell_type": "code",
      "source": [
        "#Que. 11 Imagine an accounting routine used in a book shop. It works on a list with sublists, which look like this:\n",
        "# Write a Python program, which returns a list with 2-tuples. Each tuple consists of the order number and the\n",
        "# product of the price per item and the quantity. The product should be increased by 10,- € if the value of the\n",
        "# order is smaller than 100,00 €.\n",
        "# Write a Python program using lambda\n",
        "\n",
        "# Assuming the list with sublists is named 'orders'\n",
        "orders = [ [\"34587\", \"Learning Python, Mark Lutz\", 4, 40.95],\n",
        "           [\"98762\", \"Programming Python, Mark Lutz\", 5, 56.80],\n",
        "           [\"77226\", \"Head First Python, Paul Barry\", 3,32.95],\n",
        "           [\"88112\", \"Einführung in Python3, Bernd Klein\",  3, 24.99]]\n",
        "\n",
        "# Calculate the order total and apply the condition\n",
        "result = list(map(lambda order: (order[0], order[2] * order[3] + 10 if order[2] * order[3] < 100 else order[2] * order[3]), orders))\n",
        "\n",
        "# Output the result\n",
        "print(result)"
      ],
      "metadata": {
        "colab": {
          "base_uri": "https://localhost:8080/"
        },
        "id": "sDDPcDBQoelp",
        "outputId": "56e88fe0-7b85-41ee-e996-b8ca53d40755"
      },
      "execution_count": null,
      "outputs": [
        {
          "output_type": "stream",
          "name": "stdout",
          "text": [
            "[('34587', 163.8), ('98762', 284.0), ('77226', 108.85000000000001), ('88112', 84.97)]\n"
          ]
        }
      ]
    },
    {
      "cell_type": "code",
      "source": [
        "# Que7. Implement a generator function that reads a file line by line and yields each line as a string ?\n",
        "\n",
        "def read_file_lines(file_path):\n",
        "  with open(file_path, 'r') as file:\n",
        "    for line in file:\n",
        "      yield line\n",
        "\n",
        "  read_file_lines*('file.txt')\n",
        "\n",
        "  for line in read_file_lines('file.txt'):\n",
        "    print(line)"
      ],
      "metadata": {
        "id": "GuVCOuiPov6Q"
      },
      "execution_count": 4,
      "outputs": []
    },
    {
      "cell_type": "code",
      "source": [
        "read_file_lines('file.txt')"
      ],
      "metadata": {
        "colab": {
          "base_uri": "https://localhost:8080/"
        },
        "id": "djFRCOqcmKO5",
        "outputId": "1ec4dc2d-f30c-43a6-f2f0-fa7074de41cb"
      },
      "execution_count": 5,
      "outputs": [
        {
          "output_type": "execute_result",
          "data": {
            "text/plain": [
              "<generator object read_file_lines at 0x7e2784123610>"
            ]
          },
          "metadata": {},
          "execution_count": 5
        }
      ]
    },
    {
      "cell_type": "code",
      "source": [
        "x = read_file_lines('file.txt')"
      ],
      "metadata": {
        "id": "tkpgg6NhqEnq"
      },
      "execution_count": 10,
      "outputs": []
    },
    {
      "cell_type": "code",
      "source": [],
      "metadata": {
        "id": "o9JMG3SUrUVO"
      },
      "execution_count": null,
      "outputs": []
    }
  ]
}